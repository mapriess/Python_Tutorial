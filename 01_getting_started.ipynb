{
 "cells": [
  {
   "cell_type": "markdown",
   "metadata": {},
   "source": [
    "# Getting Started"
   ]
  },
  {
   "cell_type": "markdown",
   "metadata": {},
   "source": [
    "## Technische Vorbereitung\n",
    "Die praktischen Tutorials zu den verschiedenen Methoden des maschinellen Lernens werden in dieser Lehrveranstaltung mit Hilfe von Python und der interaktiven Programmierumgebung [JupyterLab](https://jupyter.org/) durchgeführt.\n",
    "Für die technische Installation verweise ich auf die sehr guten [Installations-Hinweise von Aurélion Géron](https://github.com/ageron/handson-ml/#installation) (aus Géron (2018): Praxiseinstieg Machine Learning mit Scikit-Learn und TensorFlow).\n",
    "     \n",
    "Ich empfehle hierbei die Verwendung der [Anaconda Distribution](https://www.anaconda.com) und die Einrichtung einer *isolierten virtuellen Umgebung* wie von A. Géron beschrieben.\n",
    "Mit den von A. Géron spezifizierten Bibliotheken hat man die wesentliche Basis für die Anwendung von Machine-Learning Verfahren.        "
   ]
  },
  {
   "cell_type": "markdown",
   "metadata": {},
   "source": [
    "## Quellen"
   ]
  },
  {
   "cell_type": "markdown",
   "metadata": {},
   "source": [
    "Generell kann ich folgende Tutorials zu Python und den wichtigsten Bibliotheken NumPy, Pandas und Matplotlib als Einstiegspunkt empfehlen:\n",
    "\n",
    "- Das offizielle [Python Tutorial](http://docs.python-guide.org/en/latest/intro/learning/) ist grundsätzlich ein guter Einstiegspunkt.\n",
    "- Das [Python Numpy Tutorial (einschließlich Jupyter and Colab) vom Stanford Online Kurs CS231n](https://cs231n.github.io/python-numpy-tutorial/).\n",
    "- Die Tutorials von Aurélion Géron ([Géron (2018): Praxiseinstieg Machine Learning mit Scikit-Learn und TensorFlow](https://github.com/ageron/handson-ml/#installation)).\n",
    "- Die Übersicht [\"Python Programming Language\" von GeeksforGeeks](https://www.geeksforgeeks.org/python-programming-language/?ref=leftbar).\n",
    "- https://www.codecademy.com/learn/learn-python-3.\n",
    "- Die Beiträge von [Andreas Wygrabek](https://www.data-science-architect.de/), darunter etwa [Selektieren von Daten in Dataframes](https://www.data-science-architect.de/selektieren-von-daten-in-dataframes/).\n",
    "\n",
    "**Python Reference**:\n",
    "\n",
    "* https://docs.python.org/3/reference/\n",
    "\n",
    "Die folgenden Kapitel basieren teilweise auf obigen Quellen."
   ]
  },
  {
   "cell_type": "markdown",
   "metadata": {},
   "source": [
    "## Jupyter Erweiterungen\n",
    "Die Jupyter Erweiterung *nbextensions* ist hilfreich, um ein Inhaltverzeichnis auf der linken Seite eines Jupyter Notebooks darzustellen. Nach Installation (s. obige Hinweise) kann diese auf der [Extension Configuration](../nbextensions/) Seite aktiviert werden. Insbesondere die Erweiterung \"*Table of Contents (2)*\" ist sehr hilfreich."
   ]
  },
  {
   "cell_type": "markdown",
   "metadata": {},
   "source": [
    "## Interaktive Programmierumgebung JupyterLab\n",
    "Die praktischen Tutorials zu den verschiedenen Methoden des maschinellen Lernens werden in dieser Lehrveranstaltung mit Hilfe der interaktiven Programmierumgebung [JupyterLab](https://jupyter.org/) durchgeführt. JupyterLab ermöglicht es in einem Browser sogenannte *Jupyter Notebook*-Dokumente (\\*.ipynb) anzulegen, zu bearbeiten und auszuführen. Ein Notebook kann folgende Elemente in diversen Zellen enthalten:\n",
    "- Beschreibender Text, der durch die Auszeichnungssprache [Markdown](https://de.wikipedia.org/wiki/Markdown) formatiert werden kann\n",
    "- Quelltext (`Code`) in Python oder [anderen Programmiersprachen](https://github.com/jupyter/jupyter/wiki/Jupyter-kernels)\n",
    "- Ausgaben in Form von Text, Diagrammen, Bildern, Videos, ...\n",
    "- Mathematische Formeln, die in LaTeX oder MathML geschrieben sind\n",
    "- Interaktive Widgets\n",
    "\n",
    "Um eine Zelle zu bearbeiten, kann sie mit einem Doppelklick geöffnet werden. Mit \"Strg-Enter\" kann eine Zelle ausgeführt bzw. formatiert werden.\n",
    "\n",
    "Gute Einführungen sind bspw. hier zu finden:\n",
    "- [JupyterLab - Offizielle Dokumentation](https://jupyter.org/documentation)\n",
    "- [Dataquest - Jupyter Notebook for Beginners: A Tutorial](https://www.dataquest.io/blog/jupyter-notebook-tutorial/)\n",
    "\n",
    "Im Folgenden ist eine Auswahl aus relevanten Funktionalitäten zu finden."
   ]
  },
  {
   "cell_type": "markdown",
   "metadata": {},
   "source": [
    "### Markdown"
   ]
  },
  {
   "cell_type": "markdown",
   "metadata": {},
   "source": [
    "Eine Markdown-Zelle dient i.d.R. der Erläuterung von `Code`-Zellen. [Hier](https://www.markdownguide.org/cheat-sheet/) findet sich ein Markdown-Cheatsheet, in dem erklärt wird, wie Text u.a. **fett** oder *kursiv* dargestellt werden kann."
   ]
  },
  {
   "cell_type": "markdown",
   "metadata": {},
   "source": [
    "### Python-Code"
   ]
  },
  {
   "cell_type": "markdown",
   "metadata": {},
   "source": [
    "Die folgende Zelle enthält Python-Code, dessen Ausgabe nach der Ausführung direkt unterhalb der Zelle dargestellt wird. Eine detaillierte Einführung in Python folgt Kapitel 2 (s. [Übersicht](index.ipynb))."
   ]
  },
  {
   "cell_type": "code",
   "execution_count": 2,
   "metadata": {},
   "outputs": [
    {
     "data": {
      "text/plain": [
       "120"
      ]
     },
     "execution_count": 2,
     "metadata": {},
     "output_type": "execute_result"
    }
   ],
   "source": [
    "def factorial(n):\n",
    "    if n < 0: \n",
    "        raise Exception(\"Factorial of negative integers cannot be computed.\")\n",
    "    fact = 1\n",
    "    for i in range(2, n+1): \n",
    "        fact = fact * i\n",
    "    return fact\n",
    "\n",
    "factorial(5)"
   ]
  },
  {
   "cell_type": "markdown",
   "metadata": {},
   "source": [
    "### Math. Formeln"
   ]
  },
  {
   "cell_type": "markdown",
   "metadata": {},
   "source": [
    "LaTeX-Formeln können einfach in den erläuternden Text integriert werden. Die obige `Code`-Zelle kann die Fakultät einer beliebigen ganzen Zahl berechnen: \n",
    "$$n! = \\prod_{i=1}^{n} i = 1 \\cdot 2 \\cdot \\ldots \\cdot (n-1) \\cdot n$$"
   ]
  },
  {
   "cell_type": "markdown",
   "metadata": {},
   "source": [
    "### Diagramme"
   ]
  },
  {
   "cell_type": "markdown",
   "metadata": {},
   "source": [
    "Zur Darstellung von Diagrammen wird i.d.R. als Basis die Bibliothek [matplotlib](https://matplotlib.org/) verwendet. Eine detaillierte Behandlung dieser Bibliothek folgt Kapitel 3 (s. [Übersicht](index.ipynb)).\n",
    "\n",
    "Folgend wird exemplarisch ein Balkendiagramm dargestellt. \n",
    "Variablen, Funktionen und Klassen aus vorherigen Zellen stehen in nachfolgenden Zellen weiterhin zur Verfügung - wie hier z.B. die Funktion `factorial`."
   ]
  },
  {
   "cell_type": "code",
   "execution_count": 3,
   "metadata": {},
   "outputs": [
    {
     "data": {
      "text/plain": [
       "<BarContainer object of 5 artists>"
      ]
     },
     "execution_count": 3,
     "metadata": {},
     "output_type": "execute_result"
    },
    {
     "data": {
      "image/png": "[encoded data removed]",
      "text/plain": [
       "<Figure size 432x288 with 1 Axes>"
      ]
     },
     "metadata": {
      "needs_background": "light"
     },
     "output_type": "display_data"
    }
   ],
   "source": [
    "import matplotlib.pyplot as plt\n",
    "%matplotlib inline \n",
    "\n",
    "x = range(1, 6)\n",
    "y = [factorial(i) for i in x]\n",
    "plt.bar(x, y)"
   ]
  },
  {
   "cell_type": "code",
   "execution_count": null,
   "metadata": {},
   "outputs": [],
   "source": []
  }
 ],
 "metadata": {
  "kernelspec": {
   "display_name": "Python 3",
   "language": "python",
   "name": "python3"
  },
  "language_info": {
   "codemirror_mode": {
    "name": "ipython",
    "version": 3
   },
   "file_extension": ".py",
   "mimetype": "text/x-python",
   "name": "python",
   "nbconvert_exporter": "python",
   "pygments_lexer": "ipython3",
   "version": "3.6.8"
  },
  "toc": {
   "base_numbering": 1,
   "nav_menu": {},
   "number_sections": true,
   "sideBar": true,
   "skip_h1_title": false,
   "title_cell": "Table of Contents",
   "title_sidebar": "Contents",
   "toc_cell": false,
   "toc_position": {},
   "toc_section_display": true,
   "toc_window_display": true
  }
 },
 "nbformat": 4,
 "nbformat_minor": 4
}
