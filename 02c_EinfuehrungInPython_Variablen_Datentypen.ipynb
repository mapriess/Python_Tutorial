{
 "cells": [
  {
   "cell_type": "markdown",
   "metadata": {},
   "source": [
    "# Datentypen und Variablen\n",
    "\n",
    "## Dynamische Typisierung\n",
    "\n",
    "Im Gegensatz zu den gängigen Programmiersprachen (Java, C++) bezeichnet eine Variable in Python keinen festen Speicherplatz, in dem die Werte eines bestimmten Datentyps abgelegt werden können. \n",
    "\n",
    "Dies bedeutet, dass man eine zu einem bestimmten Zeitpunkt als Integer gespeicherte Zahl nicht durch eine Fließkommazahl (Float) überschreiben kann (die Wertänderungen müssen vom gleichen Typ sein).\n",
    "\n",
    "In Python benötigen Variablen keinen bestimmten Typ und deshalb benötigt man auch keine Typendeklaration.\n",
    "\n",
    "Benötigt man im Programm bespielsweise eine Variable i mit dem Wert 3, so erreicht man dies einfach mit der folgenden Anweisung:"
   ]
  },
  {
   "cell_type": "code",
   "execution_count": 1,
   "metadata": {},
   "outputs": [
    {
     "name": "stdout",
     "output_type": "stream",
     "text": [
      "3\n"
     ]
    },
    {
     "data": {
      "text/plain": [
       "int"
      ]
     },
     "execution_count": 1,
     "metadata": {},
     "output_type": "execute_result"
    }
   ],
   "source": [
    "i = 3\n",
    "print(i)\n",
    "\n",
    "# Anzeige des Datentyps\n",
    "type(i)"
   ]
  },
  {
   "cell_type": "markdown",
   "metadata": {},
   "source": [
    "## Datentypen"
   ]
  },
  {
   "cell_type": "markdown",
   "metadata": {},
   "source": [
    "## None"
   ]
  },
  {
   "cell_type": "code",
   "execution_count": 2,
   "metadata": {},
   "outputs": [
    {
     "name": "stdout",
     "output_type": "stream",
     "text": [
      "None\n",
      "var_1 has no value\n"
     ]
    }
   ],
   "source": [
    "# \"None\" bedeutet, dass eine Variable keinen Wert hat\n",
    "var_1 = None\n",
    "print(var_1)\n",
    "\n",
    "# Abfrage, ob Variable einen Wert hat\n",
    "if var_1 is None:\n",
    "    print(\"var_1 has no value\")\n",
    "else:\n",
    "    print(var_1)"
   ]
  },
  {
   "cell_type": "markdown",
   "metadata": {},
   "source": [
    "## Int "
   ]
  },
  {
   "cell_type": "code",
   "execution_count": 54,
   "metadata": {},
   "outputs": [
    {
     "data": {
      "text/plain": [
       "5"
      ]
     },
     "execution_count": 54,
     "metadata": {},
     "output_type": "execute_result"
    }
   ],
   "source": [
    "# Ganzzahlige Werte\n",
    "num_1 = 58316\n",
    "\n",
    "# Zahl in Zeichenkette umwandeln:\n",
    "str(num_1)\n",
    "\n",
    "# Anzahl der Ziffern der Zahl ausgeben:\n",
    "len(str(num_1))"
   ]
  },
  {
   "cell_type": "markdown",
   "metadata": {},
   "source": [
    "## Float"
   ]
  },
  {
   "cell_type": "code",
   "execution_count": 3,
   "metadata": {},
   "outputs": [
    {
     "name": "stdout",
     "output_type": "stream",
     "text": [
      "560000.0\n"
     ]
    }
   ],
   "source": [
    "# Es ist möglich sehr große/kleine Kommazahlen mittels e oder E in Exponential-Schreibweise anzugeben\n",
    "\n",
    "fl_1 = 5.6e5\n",
    "print(fl_1)"
   ]
  },
  {
   "cell_type": "markdown",
   "metadata": {},
   "source": [
    "## Boolsche Werte\n",
    "\n",
    "Boolsche Werte werden von Python als True=1 und False=0 interpretiert. "
   ]
  },
  {
   "cell_type": "code",
   "execution_count": 6,
   "metadata": {},
   "outputs": [
    {
     "name": "stdout",
     "output_type": "stream",
     "text": [
      "(True, False)\n"
     ]
    }
   ],
   "source": [
    "t = True\n",
    "f = False\n",
    "print(t, f)"
   ]
  },
  {
   "cell_type": "markdown",
   "metadata": {},
   "source": [
    "Mit der Funktion bool() lässt sich der Wahrheitswert eines belibigen Ausdrucks ermitteln:"
   ]
  },
  {
   "cell_type": "code",
   "execution_count": 12,
   "metadata": {},
   "outputs": [
    {
     "data": {
      "text/plain": [
       "True"
      ]
     },
     "execution_count": 12,
     "metadata": {},
     "output_type": "execute_result"
    }
   ],
   "source": [
    "bool(1)"
   ]
  },
  {
   "cell_type": "markdown",
   "metadata": {},
   "source": [
    "## Strings"
   ]
  },
  {
   "cell_type": "code",
   "execution_count": 5,
   "metadata": {},
   "outputs": [
    {
     "data": {
      "text/plain": [
       "str"
      ]
     },
     "execution_count": 5,
     "metadata": {},
     "output_type": "execute_result"
    }
   ],
   "source": [
    "# Nahezu jedes Python-Objekt kann Mittels str(object) in einen String umgewandelt werden\n",
    "string_1 = str(567)\n",
    "\n",
    "type(string_1)"
   ]
  },
  {
   "cell_type": "code",
   "execution_count": 7,
   "metadata": {},
   "outputs": [
    {
     "data": {
      "text/plain": [
       "'Moin Moin'"
      ]
     },
     "execution_count": 7,
     "metadata": {},
     "output_type": "execute_result"
    }
   ],
   "source": [
    "# Strings können mittels + und * miteinander kombiniert werden\n",
    "string_a = 'Moin'\n",
    "string_b = 'Moin'\n",
    "\n",
    "string_a +' '+ string_b"
   ]
  },
  {
   "cell_type": "code",
   "execution_count": 9,
   "metadata": {},
   "outputs": [
    {
     "data": {
      "text/plain": [
       "4"
      ]
     },
     "execution_count": 9,
     "metadata": {},
     "output_type": "execute_result"
    }
   ],
   "source": [
    "# Die Länge eines Strings lässt sich mittels len() bestimmen\n",
    "len(string_a)"
   ]
  },
  {
   "cell_type": "code",
   "execution_count": 13,
   "metadata": {
    "scrolled": true
   },
   "outputs": [
    {
     "name": "stdout",
     "output_type": "stream",
     "text": [
      "l\n"
     ]
    },
    {
     "data": {
      "text/plain": [
       "'ege'"
      ]
     },
     "execution_count": 13,
     "metadata": {},
     "output_type": "execute_result"
    }
   ],
   "source": [
    "# Indizierung von Strings\n",
    "# Es kann auf die einzelnen Zeichen des Strings mithilfe des Index-Operators zugegriffen werden\n",
    "\n",
    "string_e = 'Collegeblock'\n",
    "\n",
    "string_e[3]\n",
    "print(string_e[3])\n",
    "\n",
    "# Oder mittles Slices\n",
    "string_e[4:7]"
   ]
  },
  {
   "cell_type": "markdown",
   "metadata": {},
   "source": [
    "# Operatoren\n",
    "\n",
    "* Addition/Subtraktion: +/-\n",
    "* Multiplikation, Division, Rest: *, /, %\n",
    "* Vorzeichen: +/-\n",
    "* Exponentation:  **\n",
    "* Boolsches Oder, Und, Nicht: or, and, not\n",
    "* Element von: in\n",
    "* Übliche Vergleichsoperatoren: <, <=, >, >=, !=, =="
   ]
  },
  {
   "cell_type": "code",
   "execution_count": 14,
   "metadata": {},
   "outputs": [
    {
     "data": {
      "text/plain": [
       "10000"
      ]
     },
     "execution_count": 14,
     "metadata": {},
     "output_type": "execute_result"
    }
   ],
   "source": [
    "# Exponentation\n",
    "100**2"
   ]
  },
  {
   "cell_type": "code",
   "execution_count": 13,
   "metadata": {
    "scrolled": true
   },
   "outputs": [
    {
     "name": "stdout",
     "output_type": "stream",
     "text": [
      "True\n"
     ]
    }
   ],
   "source": [
    "# and, or, not\n",
    "e = True # oder 'e = bool(1)'\n",
    "r = False\n",
    "c = True\n",
    "print( (e or r) and c )"
   ]
  },
  {
   "cell_type": "code",
   "execution_count": 14,
   "metadata": {},
   "outputs": [
    {
     "data": {
      "text/plain": [
       "False"
      ]
     },
     "execution_count": 14,
     "metadata": {},
     "output_type": "execute_result"
    }
   ],
   "source": [
    "# Element von ...\n",
    "4 in [3,2,1]"
   ]
  },
  {
   "cell_type": "markdown",
   "metadata": {},
   "source": [
    "# Variablen"
   ]
  },
  {
   "cell_type": "markdown",
   "metadata": {},
   "source": [
    "## Globale und Lokale Variablen\n",
    "\n",
    "Bei vielen Programmiersprachen sind Variablen automatisch *global*, wenn sie nicht explizit als *lokal* ausgewiesen werden.\n",
    "In Python ist das Gegenteil der Fall, d.h. Variablen sind automatisch *lokal*, sofern sie nicht als *global* deklariert werden.\n",
    "\n",
    "Das heißt, das jede Variable, die man innerhalb einer Funktion definiert, automatisch einen lokalen Gültigkeitsberiech hat und die Variable außerhalb der Funktion keinen Einfluss nehmen kann."
   ]
  },
  {
   "cell_type": "code",
   "execution_count": 17,
   "metadata": {},
   "outputs": [
    {
     "name": "stdout",
     "output_type": "stream",
     "text": [
      "x ist 50\n",
      "Lokales x ist jetzt 2\n",
      "x ist immer noch 50\n"
     ]
    }
   ],
   "source": [
    "# Beispiel: Lokale Variable\n",
    "\n",
    "def funk(x):\n",
    "\tprint 'x ist', x\n",
    "\tx = 2\n",
    "\tprint 'Lokales x ist jetzt', x\n",
    "\n",
    "x = 50\n",
    "funk(x)\n",
    "print 'x ist immer noch', x\n"
   ]
  },
  {
   "cell_type": "code",
   "execution_count": 18,
   "metadata": {},
   "outputs": [
    {
     "name": "stdout",
     "output_type": "stream",
     "text": [
      "x ist 50\n",
      "Globales x ist jetzt 2\n",
      "Der Wert von x ist 2\n"
     ]
    }
   ],
   "source": [
    "# Beispiel: Globale Variable\n",
    "\n",
    "def funk():\n",
    "\tglobal x\n",
    "\n",
    "\tprint 'x ist', x\n",
    "\tx = 2\n",
    "\tprint 'Globales x ist jetzt', x\n",
    "\n",
    "x = 50\n",
    "funk()\n",
    "print 'Der Wert von x ist', x"
   ]
  }
 ],
 "metadata": {
  "kernelspec": {
   "display_name": "Python 2",
   "language": "python",
   "name": "python2"
  },
  "language_info": {
   "codemirror_mode": {
    "name": "ipython",
    "version": 2
   },
   "file_extension": ".py",
   "mimetype": "text/x-python",
   "name": "python",
   "nbconvert_exporter": "python",
   "pygments_lexer": "ipython2",
   "version": "2.7.10"
  },
  "toc": {
   "base_numbering": 1,
   "nav_menu": {},
   "number_sections": true,
   "sideBar": true,
   "skip_h1_title": false,
   "title_cell": "Table of Contents",
   "title_sidebar": "Contents",
   "toc_cell": false,
   "toc_position": {},
   "toc_section_display": true,
   "toc_window_display": true
  }
 },
 "nbformat": 4,
 "nbformat_minor": 2
}
