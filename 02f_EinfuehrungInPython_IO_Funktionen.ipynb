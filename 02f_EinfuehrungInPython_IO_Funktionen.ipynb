{
 "cells": [
  {
   "cell_type": "markdown",
   "metadata": {},
   "source": [
    "# I/O-Funktionen in Python\n",
    "\n",
    "## Keyboard I/O Funktionen\n",
    "\n",
    "- Eingaben als String mit input()\n",
    "- Eingabe und Evaluierung des Datentyps mit eval(input())"
   ]
  },
  {
   "cell_type": "code",
   "execution_count": null,
   "metadata": {},
   "outputs": [],
   "source": [
    "eingabe = input(\"Geben Sie einen String an: \")\n",
    "eingabe"
   ]
  },
  {
   "cell_type": "code",
   "execution_count": null,
   "metadata": {},
   "outputs": [],
   "source": [
    "eingabe = int(input(\"Geben Sie eine Zahl an: \"))\n",
    "eingabe"
   ]
  },
  {
   "cell_type": "code",
   "execution_count": null,
   "metadata": {},
   "outputs": [],
   "source": [
    "eingabe = eval(input(\"Geben Sie eine Liste an: \"))\n",
    "# [\"zürich\", \"Bern\", \"Basel\", \"Schaffhausen\"]\n",
    "# {\"Köln\": 1024373, \"Frankfurt\":687775, \"Stuttgart\":597939}\n",
    "eingabe"
   ]
  },
  {
   "cell_type": "markdown",
   "metadata": {},
   "source": [
    "## Python Verzeichnis und Datei Management\n",
    "\n",
    "- Methoden befinden sich im os Modul (import os)\n",
    "- Das aktive directory wird mit os.getcwd() abgerufen"
   ]
  },
  {
   "cell_type": "code",
   "execution_count": null,
   "metadata": {},
   "outputs": [],
   "source": [
    "import os\n",
    "os.getcwd()"
   ]
  },
  {
   "cell_type": "markdown",
   "metadata": {},
   "source": [
    "- Das Verzeichnis kann mit os.chdir() geändert werden"
   ]
  },
  {
   "cell_type": "code",
   "execution_count": null,
   "metadata": {},
   "outputs": [],
   "source": [
    "import os\n",
    "os.chdir(\"C:\\\\Users\\\\Daniel\\\\Pictures\")\n",
    "os.getcwd()"
   ]
  },
  {
   "cell_type": "markdown",
   "metadata": {},
   "source": [
    "- Elemente des aktiven Verzeichnis werden mit os.listdir() ausgegeben\n",
    "- Unter Angabe eines Pfades können auch dessen Elemente ausgegeben werden"
   ]
  },
  {
   "cell_type": "code",
   "execution_count": null,
   "metadata": {},
   "outputs": [],
   "source": [
    "import os\n",
    "os.listdir()"
   ]
  },
  {
   "cell_type": "code",
   "execution_count": null,
   "metadata": {},
   "outputs": [],
   "source": [
    "import os\n",
    "os.listdir(\"C:\\\\Users\\\\Daniel\\\\Desktop\")"
   ]
  },
  {
   "cell_type": "markdown",
   "metadata": {},
   "source": [
    "- Neue Verzeichnisse können mit os.mkdir() erstellt werden"
   ]
  },
  {
   "cell_type": "code",
   "execution_count": null,
   "metadata": {},
   "outputs": [],
   "source": [
    "import os\n",
    "os.mkdir(\"Test\")\n",
    "os.listdir()"
   ]
  },
  {
   "cell_type": "markdown",
   "metadata": {},
   "source": [
    "- Verzeichnisse werden mit os.rename() umbenannt"
   ]
  },
  {
   "cell_type": "code",
   "execution_count": null,
   "metadata": {},
   "outputs": [],
   "source": [
    "import os\n",
    "os.rename(\"Test\", \"NewTest\")\n",
    "os.listdir()"
   ]
  },
  {
   "cell_type": "markdown",
   "metadata": {},
   "source": [
    "- Mit os.rmdir() können Verzeichnisse gelöscht werden\n",
    "- Für einzelne Dateien wird os.remove() verwendet\n",
    "- os.rmdir() kann ausschließlich leere Verzeichnisse löschen\n",
    "- Um nicht leere Verzeichnisse zu löschen wird shutil.rmtree() verwendet (import shutil)"
   ]
  },
  {
   "cell_type": "code",
   "execution_count": null,
   "metadata": {},
   "outputs": [],
   "source": [
    "import os\n",
    "os.rmdir(\"NewTest\")\n",
    "os.listdir()"
   ]
  },
  {
   "cell_type": "code",
   "execution_count": null,
   "metadata": {},
   "outputs": [],
   "source": [
    "import os\n",
    "os.chdir(\"C:\\\\Users\\\\Daniel\\\\Desktop\\\\Remove\")\n",
    "os.remove(\"test.txt\")\n",
    "os.listdir()"
   ]
  },
  {
   "cell_type": "code",
   "execution_count": null,
   "metadata": {},
   "outputs": [],
   "source": [
    "import shutil\n",
    "os.chdir(\"C:\\\\Users\\\\Daniel\\\\Desktop\")\n",
    "shutil.rmtree(\"RMTree\")\n",
    "os.listdir()"
   ]
  },
  {
   "cell_type": "markdown",
   "metadata": {},
   "source": [
    "## Arbeiten mit Dateien\n",
    "\n",
    "### Öffnen/Schließen von Dateien\n",
    "\n",
    "- Öffnen der Datei mit open(Dateipfad, Modus)\n",
    "- Modi:\n",
    "- r -> Lesen von Dateien\n",
    "- w -> Beschreiben von Dateien\n",
    "- x -> Erstellen und beschreiben einer neuen Datei\n",
    "- a -> Anhängen an eine Datei\n",
    "- r+ -> Lesen und beschreiben der gleichen Datei\n",
    "- Schließen der Datei mit meineDatei.close()\n",
    "- Dateien sollten immer geschlossen werden nachdem alle Operationen abgeschlossen sind, da es ein Maximum für offene Dateien gibt"
   ]
  },
  {
   "cell_type": "code",
   "execution_count": null,
   "metadata": {},
   "outputs": [],
   "source": [
    "import os\n",
    "os.chdir('C:\\\\Users\\\\Daniel\\\\Desktop')\n",
    "meine_Datei = open(\"Beispieldatei.txt\", \"r\")\n",
    "print(\"Dateiname: \", meine_Datei.name)\n",
    "print(\"Modus: \", meine_Datei.mode)\n",
    "meine_Datei.close()"
   ]
  },
  {
   "cell_type": "markdown",
   "metadata": {},
   "source": [
    "- Sollte ein Fehler beim Bearbeiten der Datei auftreten, wird diese nicht geschlossen\n",
    "- Es gibt Methoden um dieses Problem zu umgehen:"
   ]
  },
  {
   "cell_type": "code",
   "execution_count": null,
   "metadata": {},
   "outputs": [],
   "source": [
    "try:\n",
    "    meine_Datei = open(\"Beispieldatei.txt\", \"r\")\n",
    "    #Hier Operationen durchführen\n",
    "finally:\n",
    "    meine_Datei.close()"
   ]
  },
  {
   "cell_type": "code",
   "execution_count": null,
   "metadata": {},
   "outputs": [],
   "source": [
    "with open(\"Beispieldatei.txt\", \"r\") as meine_Datei:\n",
    "    #Hier Operationen durchführen"
   ]
  },
  {
   "cell_type": "markdown",
   "metadata": {},
   "source": [
    "- Im unterem Beispiel muss die close() Methode nicht explizit aufgerufen werden (dies geschieht intern)"
   ]
  },
  {
   "cell_type": "markdown",
   "metadata": {},
   "source": [
    "### Operationen mit Dateien\n",
    "\n",
    "- meine_Datei.read() liest alle Zeilen der Datei aus\n",
    "- meine_Datei.readLine() liest eine einzelne Zeile der Datei\n",
    "- meine_Datei.readLines() gibt eine Liste mit allen einzelnen Zeilen der Datei zurück"
   ]
  },
  {
   "cell_type": "code",
   "execution_count": null,
   "metadata": {},
   "outputs": [],
   "source": [
    "with open(\"Beispieldatei.txt\", \"r\") as meine_Datei:\n",
    "    print(meine_Datei.read())"
   ]
  },
  {
   "cell_type": "code",
   "execution_count": null,
   "metadata": {},
   "outputs": [],
   "source": [
    "with open(\"Beispieldatei.txt\", \"r\") as meine_Datei:\n",
    "    print(meine_Datei.readline())"
   ]
  },
  {
   "cell_type": "code",
   "execution_count": null,
   "metadata": {},
   "outputs": [],
   "source": [
    "with open(\"Beispieldatei.txt\", \"r\") as meine_Datei:\n",
    "    print(meine_Datei.readlines())"
   ]
  },
  {
   "cell_type": "markdown",
   "metadata": {},
   "source": [
    "- Eine Datei kann mit meine_Datei.write() beschrieben werden\n",
    "- Wenn eine bereits vorhandene Datei mit dem Modus \"w\" geöffnet wird, gehen alle bereits vorhandenen Inhalte verloren"
   ]
  },
  {
   "cell_type": "code",
   "execution_count": null,
   "metadata": {},
   "outputs": [],
   "source": [
    "with open(\"Beispieldatei2.txt\", \"w\") as meine_Datei:\n",
    "    meine_Datei.write(\"Hello World\")"
   ]
  }
 ],
 "metadata": {
  "kernelspec": {
   "display_name": "Python 3",
   "language": "python",
   "name": "python3"
  },
  "language_info": {
   "codemirror_mode": {
    "name": "ipython",
    "version": 3
   },
   "file_extension": ".py",
   "mimetype": "text/x-python",
   "name": "python",
   "nbconvert_exporter": "python",
   "pygments_lexer": "ipython3",
   "version": "3.6.8"
  },
  "toc": {
   "base_numbering": 1,
   "nav_menu": {},
   "number_sections": true,
   "sideBar": true,
   "skip_h1_title": false,
   "title_cell": "Table of Contents",
   "title_sidebar": "Contents",
   "toc_cell": false,
   "toc_position": {},
   "toc_section_display": true,
   "toc_window_display": false
  }
 },
 "nbformat": 4,
 "nbformat_minor": 2
}
