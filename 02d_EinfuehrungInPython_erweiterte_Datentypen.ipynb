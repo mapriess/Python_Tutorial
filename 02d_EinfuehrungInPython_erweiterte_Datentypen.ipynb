{
 "cells": [
  {
   "cell_type": "markdown",
   "metadata": {},
   "source": [
    "# Container als erweiterte Datentypen\n",
    "\n",
    "## Listen:\n",
    "\n",
    "- Inhalt durch Kommata getrennt und von eckigen Klammern umgeben\n",
    "- Elemente mit unterschiedlichen Datentypen möglich; i.d.R. der selbe Datentyp\n",
    "- Listen als Elemente möglich\n",
    "- Dopplungen innerhalb einer Liste möglich"
   ]
  },
  {
   "cell_type": "code",
   "execution_count": 2,
   "metadata": {},
   "outputs": [],
   "source": [
    "names = [\"Tom\", \"Maik\", \"Claudia\", \"Ralf\"]\n",
    "personA = [\"Tom\", \"Müller\", 22, \"Hauptstr. 13\", 12345, \"Stadt\"]\n",
    "persons = [[\"Tom\", \"Müller\"], [\"Kevin\", \"Mustermann\"]]"
   ]
  },
  {
   "cell_type": "markdown",
   "metadata": {},
   "source": [
    "### Aufruf der Elemente über Indizes oder über das Zerschneiden der Liste"
   ]
  },
  {
   "cell_type": "code",
   "execution_count": 3,
   "metadata": {
    "scrolled": true
   },
   "outputs": [
    {
     "name": "stdout",
     "output_type": "stream",
     "text": [
      "Tom\n"
     ]
    }
   ],
   "source": [
    "print(names[0]) #Index gibt das Element an der Stelle in der Liste zurück"
   ]
  },
  {
   "cell_type": "code",
   "execution_count": 4,
   "metadata": {},
   "outputs": [
    {
     "name": "stdout",
     "output_type": "stream",
     "text": [
      "['Claudia', 'Ralf']\n"
     ]
    }
   ],
   "source": [
    "print(names[-2:]) #Schneidet die letzten beiden Elemente ab und gibt sie als neue Liste zurück"
   ]
  },
  {
   "cell_type": "markdown",
   "metadata": {},
   "source": [
    "### Verkettungen"
   ]
  },
  {
   "cell_type": "code",
   "execution_count": 5,
   "metadata": {},
   "outputs": [
    {
     "name": "stdout",
     "output_type": "stream",
     "text": [
      "['Tom', 'Maik', 'Claudia', 'Ralf', 'Leo', 'Franziska', 'Katrin']\n"
     ]
    }
   ],
   "source": [
    "print(names + [\"Leo\", \"Franziska\", \"Katrin\"])"
   ]
  },
  {
   "cell_type": "markdown",
   "metadata": {},
   "source": [
    "### Ändern von Elementen"
   ]
  },
  {
   "cell_type": "code",
   "execution_count": 6,
   "metadata": {},
   "outputs": [
    {
     "name": "stdout",
     "output_type": "stream",
     "text": [
      "Klaudia\n"
     ]
    }
   ],
   "source": [
    "names[3] = \"Klaudia\"\n",
    "print(names[3])"
   ]
  },
  {
   "cell_type": "markdown",
   "metadata": {},
   "source": [
    "### Methoden"
   ]
  },
  {
   "cell_type": "markdown",
   "metadata": {},
   "source": [
    "##### Elemente hinzufügen\n",
    "\n",
    "- list.append(e) -> fügt ein Element am Ende der Liste hinzu\n",
    "- list.extend(iterable) -> erweitert die Liste um das iterable-Objekt"
   ]
  },
  {
   "cell_type": "code",
   "execution_count": 7,
   "metadata": {},
   "outputs": [
    {
     "name": "stdout",
     "output_type": "stream",
     "text": [
      "[1, 3, 4, 5, 6, 7, 8, 9, 10, 11]\n"
     ]
    }
   ],
   "source": [
    "numbers = [1,3,4,5,6,7,8]\n",
    "\n",
    "num = [10,11]\n",
    "\n",
    "numbers.append(9)\n",
    "numbers.extend(num)\n",
    "\n",
    "print(numbers)"
   ]
  },
  {
   "cell_type": "markdown",
   "metadata": {},
   "source": [
    "##### Elemente einfügen\n",
    "\n",
    "- list.insert(i,e) -> fügt ein Element an der Stelle i ein"
   ]
  },
  {
   "cell_type": "code",
   "execution_count": 8,
   "metadata": {},
   "outputs": [
    {
     "name": "stdout",
     "output_type": "stream",
     "text": [
      "[1, 2, 3, 4, 5, 6, 7, 8, 9, 10, 11]\n"
     ]
    }
   ],
   "source": [
    "numbers.insert(1, 2)\n",
    "print(numbers)"
   ]
  },
  {
   "cell_type": "markdown",
   "metadata": {},
   "source": [
    "##### Position eines Elements herausfinden\n",
    "\n",
    "- list.index(e) -> Ermittlung des Index für e\n",
    "- list.index(e, i) -> Einschränkung: Suche beginnt erst ab Position i\n",
    "- list.index(e, i, j) -> Einschränkung: Suche nur im Intervall von i bis j"
   ]
  },
  {
   "cell_type": "markdown",
   "metadata": {},
   "source": [
    "##### Elemente entfernen\n",
    "\n",
    "- list.remove(e) -> entfernt das erste Element der Liste, dessen Wert e beträgt"
   ]
  },
  {
   "cell_type": "code",
   "execution_count": 9,
   "metadata": {},
   "outputs": [
    {
     "name": "stdout",
     "output_type": "stream",
     "text": [
      "[1, 2, 3, 4, 5, 7, 8, 9, 10, 11]\n"
     ]
    }
   ],
   "source": [
    "numbers.remove(6)\n",
    "print(numbers)"
   ]
  },
  {
   "cell_type": "markdown",
   "metadata": {},
   "source": [
    "##### pop-Methode\n",
    "\n",
    "- list.pop(e) -> gibt das Element an der Stelle i zurück und entfernt es aus der Liste\n",
    "- list.pop() -> gibt das letzte Element zurück und entfernt es aus der Liste"
   ]
  },
  {
   "cell_type": "code",
   "execution_count": 10,
   "metadata": {},
   "outputs": [
    {
     "name": "stdout",
     "output_type": "stream",
     "text": [
      "7\n"
     ]
    }
   ],
   "source": [
    "num = numbers.pop(5)\n",
    "\n",
    "print(num)"
   ]
  },
  {
   "cell_type": "markdown",
   "metadata": {},
   "source": [
    "##### del-Methode\n",
    "\n",
    "- del list[i] -> entfernt das Element an der Stelle i \n",
    "- del list[:] -> entfernt alles aus der Liste\n",
    "- del list[i:j] -> entfernt den angegeben Bereich zwischen i und j"
   ]
  },
  {
   "cell_type": "markdown",
   "metadata": {},
   "source": [
    "##### andere Methoden\n",
    "\n",
    "- list.clear() -> entfernt alle Elemente der Liste\n",
    "- list.count() -> zählt alle Elemente der Liste"
   ]
  },
  {
   "cell_type": "markdown",
   "metadata": {},
   "source": [
    "## Tupel\n",
    "\n",
    "- sequenzieller Datentyp\n",
    "- Index-Operatoren wie beim Datentyp Liste\n",
    "- Liste von Werten, die durch Kommata getrennt sind (Klammern sind nicht zwingend notwendig)\n",
    "- unterscheidliche Datentypen möglich"
   ]
  },
  {
   "cell_type": "code",
   "execution_count": 11,
   "metadata": {},
   "outputs": [],
   "source": [
    "t = (12345, \"abcdefg\", 6789)"
   ]
  },
  {
   "cell_type": "markdown",
   "metadata": {},
   "source": [
    "- unveränderbar:\n",
    "    -Wertänderung an einer Stelle führt zu einem Fehler\n",
    "- aber:\n",
    "    -Möglichkeit, ein Elemente eines Tupels durch ein anderes Tupel zu ersetzen "
   ]
  },
  {
   "cell_type": "code",
   "execution_count": 12,
   "metadata": {},
   "outputs": [
    {
     "ename": "TypeError",
     "evalue": "'tuple' object does not support item assignment",
     "output_type": "error",
     "traceback": [
      "\u001b[0;31m---------------------------------------------------------------------------\u001b[0m",
      "\u001b[0;31mTypeError\u001b[0m                                 Traceback (most recent call last)",
      "\u001b[0;32m<ipython-input-12-cfc045c24fa5>\u001b[0m in \u001b[0;36m<module>\u001b[0;34m\u001b[0m\n\u001b[0;32m----> 1\u001b[0;31m \u001b[0mt\u001b[0m\u001b[0;34m[\u001b[0m\u001b[0;36m0\u001b[0m\u001b[0;34m]\u001b[0m \u001b[0;34m=\u001b[0m \u001b[0;34m\"TEST\"\u001b[0m\u001b[0;34m\u001b[0m\u001b[0;34m\u001b[0m\u001b[0m\n\u001b[0m",
      "\u001b[0;31mTypeError\u001b[0m: 'tuple' object does not support item assignment"
     ]
    }
   ],
   "source": [
    "t[0] = \"TEST\""
   ]
  },
  {
   "cell_type": "code",
   "execution_count": null,
   "metadata": {},
   "outputs": [],
   "source": [
    "t = (\"eins\", ) + t[1:]\n",
    "print(t)"
   ]
  },
  {
   "cell_type": "markdown",
   "metadata": {},
   "source": [
    "##### Tupel mit nur einem Element\n",
    "\n",
    "- nach dem Element MUSS ein Komma stehen\n",
    "- Python behandelt das Element in den Klammern andernfalls als String"
   ]
  },
  {
   "cell_type": "code",
   "execution_count": 14,
   "metadata": {},
   "outputs": [],
   "source": [
    "t2 = (\"abcd\",)"
   ]
  },
  {
   "cell_type": "markdown",
   "metadata": {},
   "source": [
    "##### Wertzuweisung\n",
    "- Aufteilung der Tupelelemente auf einzelne Variablen"
   ]
  },
  {
   "cell_type": "code",
   "execution_count": 13,
   "metadata": {},
   "outputs": [
    {
     "name": "stdout",
     "output_type": "stream",
     "text": [
      "12345\n",
      "abcdefg\n",
      "6789\n"
     ]
    }
   ],
   "source": [
    "a,b,c = t\n",
    "print(a)\n",
    "print(b)\n",
    "print(c)"
   ]
  },
  {
   "cell_type": "markdown",
   "metadata": {},
   "source": [
    "- Tausch der gesamten Tupel"
   ]
  },
  {
   "cell_type": "code",
   "execution_count": 15,
   "metadata": {},
   "outputs": [
    {
     "name": "stdout",
     "output_type": "stream",
     "text": [
      "('abcd',)\n",
      "(12345, 'abcdefg', 6789)\n"
     ]
    }
   ],
   "source": [
    "t, t2 = t2, t\n",
    "print(t)\n",
    "print(t2)"
   ]
  },
  {
   "cell_type": "markdown",
   "metadata": {},
   "source": [
    "##### Löschen"
   ]
  },
  {
   "cell_type": "code",
   "execution_count": null,
   "metadata": {},
   "outputs": [],
   "source": [
    "del t\n",
    "\n",
    "print(t)"
   ]
  },
  {
   "cell_type": "markdown",
   "metadata": {},
   "source": [
    "##### Vorteile gegenüber Listen:\n",
    "\n",
    "- Performance-Vorteil\n",
    "- Nutzung als Schlüssel für Dictionaries, wenn ein Tupel nur unveränderbare Datentypen enthält\n",
    "- gibt Daten einen Veränderungsschutz"
   ]
  },
  {
   "cell_type": "markdown",
   "metadata": {},
   "source": [
    "## Dictionaries\n",
    "\n",
    "- Mapping-Type (key-value)\n",
    "- jeder key ist einzigartig, darf aber nur aus unveränderbaren Datentypen bestehen\n",
    "- die value-Objekte haben keine Einschränkung im Datentyp\n",
    "- Aufbau: key:value durch Kommata getrennt"
   ]
  },
  {
   "cell_type": "code",
   "execution_count": 16,
   "metadata": {},
   "outputs": [
    {
     "name": "stdout",
     "output_type": "stream",
     "text": [
      "{1: 'Leon', 2: 'Paula', 3: 'Thorsten'}\n"
     ]
    }
   ],
   "source": [
    "dictionary = {1:'Leon', 2:'Paula', 3:'Thorsten'}\n",
    "\n",
    "print(dictionary)"
   ]
  },
  {
   "cell_type": "markdown",
   "metadata": {},
   "source": [
    "- Beim Versuch auf einen nicht existierenden Schlüssel zuzugreifen, kommt es zu einer Fehlermeldung"
   ]
  },
  {
   "cell_type": "code",
   "execution_count": 18,
   "metadata": {},
   "outputs": [
    {
     "ename": "KeyError",
     "evalue": "5",
     "output_type": "error",
     "traceback": [
      "\u001b[0;31m---------------------------------------------------------------------------\u001b[0m",
      "\u001b[0;31mKeyError\u001b[0m                                  Traceback (most recent call last)",
      "\u001b[0;32m<ipython-input-18-b7f79906ec9c>\u001b[0m in \u001b[0;36m<module>\u001b[0;34m\u001b[0m\n\u001b[0;32m----> 1\u001b[0;31m \u001b[0mdictionary\u001b[0m\u001b[0;34m[\u001b[0m\u001b[0;36m5\u001b[0m\u001b[0;34m]\u001b[0m\u001b[0;34m\u001b[0m\u001b[0;34m\u001b[0m\u001b[0m\n\u001b[0m",
      "\u001b[0;31mKeyError\u001b[0m: 5"
     ]
    }
   ],
   "source": [
    "dictionary[5]"
   ]
  },
  {
   "cell_type": "markdown",
   "metadata": {},
   "source": [
    "- Ausgabe der Werte über das Zugreifen auf das Dictionary durch den key"
   ]
  },
  {
   "cell_type": "code",
   "execution_count": 19,
   "metadata": {},
   "outputs": [
    {
     "name": "stdout",
     "output_type": "stream",
     "text": [
      "Thorsten\n"
     ]
    }
   ],
   "source": [
    "print(dictionary[3])"
   ]
  },
  {
   "cell_type": "markdown",
   "metadata": {},
   "source": [
    "##### Hinzufügen eines key-value-Paares"
   ]
  },
  {
   "cell_type": "code",
   "execution_count": 20,
   "metadata": {},
   "outputs": [
    {
     "name": "stdout",
     "output_type": "stream",
     "text": [
      "{1: 'Leon', 2: 'Paula', 3: 'Thorsten', 4: 'Tom'}\n"
     ]
    }
   ],
   "source": [
    "dictionary[4] = 'Tom'\n",
    "\n",
    "print(dictionary)"
   ]
  },
  {
   "cell_type": "markdown",
   "metadata": {},
   "source": [
    "##### Operatoren:\n",
    "\n",
    "- len(d) -> liefert die Anzahl aller im Dictionary enthaltenen Elemente, d.h. Schlüssel-Werte-Paare\n",
    "- del d[k] -> Löschen des Schlüssels k zusammen mit seinem Wert\n",
    "- k in d -> True, wenn es im Dictionary  d einen Schlüssel k gibt\n",
    "- k not in d -> True, wenn es im Dictionary d keinen Schlüssel k gibt"
   ]
  },
  {
   "cell_type": "markdown",
   "metadata": {},
   "source": [
    "##### Wichtge Methoden:\n",
    "\n",
    "- update() -> hängt ein weiteres Dictionary ran. Werden gleiche Schlüssel verwendet, werden die Werte mit den des zweiten Dictionaries überschrieben "
   ]
  },
  {
   "cell_type": "code",
   "execution_count": 21,
   "metadata": {},
   "outputs": [
    {
     "name": "stdout",
     "output_type": "stream",
     "text": [
      "{1: 'Leon', 2: 'Laura', 3: 'Thorsten', 4: 'Tom', 6: 'Paul'}\n"
     ]
    }
   ],
   "source": [
    "dictionary2 = {2:'Laura', 6:'Paul'}\n",
    "\n",
    "dictionary.update(dictionary2)\n",
    "\n",
    "print(dictionary)"
   ]
  },
  {
   "cell_type": "markdown",
   "metadata": {},
   "source": [
    "- copy() -> erstellt eine Kopie des aktuellen Standes"
   ]
  },
  {
   "cell_type": "code",
   "execution_count": 22,
   "metadata": {},
   "outputs": [],
   "source": [
    "d = dictionary.copy()"
   ]
  },
  {
   "cell_type": "markdown",
   "metadata": {},
   "source": [
    "- clear() -> löscht die Elemente, das Dictionary bleibt aber bestehen"
   ]
  },
  {
   "cell_type": "code",
   "execution_count": 23,
   "metadata": {},
   "outputs": [
    {
     "ename": "SyntaxError",
     "evalue": "invalid syntax (<ipython-input-23-616e0c4c340d>, line 1)",
     "output_type": "error",
     "traceback": [
      "\u001b[0;36m  File \u001b[0;32m\"<ipython-input-23-616e0c4c340d>\"\u001b[0;36m, line \u001b[0;32m1\u001b[0m\n\u001b[0;31m    dictionary.clear()s\u001b[0m\n\u001b[0m                      ^\u001b[0m\n\u001b[0;31mSyntaxError\u001b[0m\u001b[0;31m:\u001b[0m invalid syntax\n"
     ]
    }
   ],
   "source": [
    "dictionary.clear()s"
   ]
  }
 ],
 "metadata": {
  "kernelspec": {
   "display_name": "Python 3",
   "language": "python",
   "name": "python3"
  },
  "language_info": {
   "codemirror_mode": {
    "name": "ipython",
    "version": 3
   },
   "file_extension": ".py",
   "mimetype": "text/x-python",
   "name": "python",
   "nbconvert_exporter": "python",
   "pygments_lexer": "ipython3",
   "version": "3.6.8"
  },
  "toc": {
   "base_numbering": 1,
   "nav_menu": {},
   "number_sections": true,
   "sideBar": true,
   "skip_h1_title": false,
   "title_cell": "Table of Contents",
   "title_sidebar": "Contents",
   "toc_cell": false,
   "toc_position": {
    "height": "calc(100% - 180px)",
    "left": "10px",
    "top": "150px",
    "width": "407.20001220703125px"
   },
   "toc_section_display": true,
   "toc_window_display": true
  }
 },
 "nbformat": 4,
 "nbformat_minor": 2
}
