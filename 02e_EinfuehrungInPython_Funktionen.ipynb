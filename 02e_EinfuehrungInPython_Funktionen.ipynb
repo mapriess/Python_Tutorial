{
 "cells": [
  {
   "cell_type": "markdown",
   "metadata": {},
   "source": [
    "# Funktionen in Python"
   ]
  },
  {
   "cell_type": "markdown",
   "metadata": {},
   "source": [
    "## Genereller Aufbau"
   ]
  },
  {
   "cell_type": "code",
   "execution_count": 1,
   "metadata": {},
   "outputs": [
    {
     "name": "stdout",
     "output_type": "stream",
     "text": [
      "1\n",
      "3\n",
      "6\n",
      "10\n",
      "15\n",
      "21\n"
     ]
    },
    {
     "data": {
      "text/plain": [
       "21"
      ]
     },
     "execution_count": 1,
     "metadata": {},
     "output_type": "execute_result"
    }
   ],
   "source": [
    "def rekursion(i):\n",
    "    if(i>0):\n",
    "        result = i + rekursion(i-1)\n",
    "        print(result)\n",
    "    else:\n",
    "        result = 0\n",
    "    return result\n",
    "\n",
    "rekursion(6)"
   ]
  },
  {
   "cell_type": "code",
   "execution_count": null,
   "metadata": {},
   "outputs": [],
   "source": []
  },
  {
   "cell_type": "markdown",
   "metadata": {},
   "source": [
    "## Utilities"
   ]
  },
  {
   "cell_type": "markdown",
   "metadata": {},
   "source": [
    "Eine Sammlung von Modulen, um häufige Problemstellungen zu lösen, z.B.:\n",
    "\n",
    "os -> Funktionen zum Arbeiten mit Verzeichnissen und Dateien\n",
    "\n",
    "commands -> Funktionen zum Ausführen externen Codes und den Output zu erhalten\n",
    "\n",
    "urllib -> Konvertieren einer URL zu einem Dateipfad-ähnlichen String\n",
    "\n",
    "Exceptions"
   ]
  },
  {
   "cell_type": "markdown",
   "metadata": {},
   "source": [
    "## map(), reduce(), lambda"
   ]
  },
  {
   "cell_type": "code",
   "execution_count": 35,
   "metadata": {},
   "outputs": [
    {
     "name": "stdout",
     "output_type": "stream",
     "text": [
      "[2, 4, 6, 8]\n"
     ]
    }
   ],
   "source": [
    "def doublation(n):\n",
    "    return n+n\n",
    "\n",
    "numbers = (1,2,3,4)\n",
    "result = map(doublation, numbers)\n",
    "print(list(result))"
   ]
  },
  {
   "cell_type": "markdown",
   "metadata": {},
   "source": [
    "map(function, iterable) -> Führt für jedes der Elemente der iterierbaren Variable die angegebene Funktion aus"
   ]
  },
  {
   "cell_type": "code",
   "execution_count": 2,
   "metadata": {},
   "outputs": [
    {
     "name": "stdout",
     "output_type": "stream",
     "text": [
      "10\n"
     ]
    }
   ],
   "source": [
    "from functools import reduce\n",
    "\n",
    "def add(a, b):\n",
    "    return a+b\n",
    "\n",
    "numbers = (1,2,3,4)\n",
    "result = reduce(add, numbers)\n",
    "print(result)"
   ]
  },
  {
   "cell_type": "markdown",
   "metadata": {},
   "source": [
    "reduce(function, iterable) -> führt die Funktion für die ersten beiden Elemente aus. Anschließend wird die Funktion für den aus der ersten Iteration resultierenden Wert und das dritte Element ausgeführt. Dies wird fortgeführt, bis kein weiteres Element existiert. Der dann erzeugte Wert wird zurückgegeben."
   ]
  },
  {
   "cell_type": "code",
   "execution_count": 27,
   "metadata": {},
   "outputs": [
    {
     "name": "stdout",
     "output_type": "stream",
     "text": [
      "[2, 4, 6, 8]\n",
      "10\n"
     ]
    }
   ],
   "source": [
    "numbers = (1,2,3,4)\n",
    "result = map(lambda n: n+n, numbers)\n",
    "print(list(result))\n",
    "\n",
    "result = reduce((lambda a,b: a+b), numbers)\n",
    "print(result)"
   ]
  },
  {
   "cell_type": "markdown",
   "metadata": {},
   "source": [
    "lambda Funktionen = anonyme Funktionen/namenlose Funktionen"
   ]
  },
  {
   "cell_type": "markdown",
   "metadata": {},
   "source": [
    "## filter()"
   ]
  },
  {
   "cell_type": "code",
   "execution_count": 11,
   "metadata": {},
   "outputs": [
    {
     "name": "stdout",
     "output_type": "stream",
     "text": [
      "[1, 3, 5, 13]\n"
     ]
    }
   ],
   "source": [
    "numbers = [0, 1, 2, 3, 5, 8, 13] \n",
    "  \n",
    "result = filter(lambda x: x % 2, numbers) \n",
    "print(list(result)) "
   ]
  },
  {
   "cell_type": "code",
   "execution_count": 29,
   "metadata": {},
   "outputs": [
    {
     "name": "stdout",
     "output_type": "stream",
     "text": [
      "[0, 2, 8]\n"
     ]
    }
   ],
   "source": [
    "result = filter(lambda x: x % 2 == 0, numbers)\n",
    "print(list(result))"
   ]
  },
  {
   "cell_type": "markdown",
   "metadata": {},
   "source": [
    "filter() -> filter iteriert über alle Elemente einer iterierbaren Liste und gibt eine Liste mit allen true zurückliefernden Werten zurück"
   ]
  },
  {
   "cell_type": "markdown",
   "metadata": {},
   "source": [
    "## itertools"
   ]
  },
  {
   "cell_type": "markdown",
   "metadata": {},
   "source": [
    "... ist ein Modul, in dem Funktionen gesammelt sind, mit denen verschiedene Operationen mit iterierbaren Objekten vorgenommen werden können. Beispiele dafür sind: accumulate (summiert), chain (führt zusammen) und filterfalse (filtert Werte, bei denen die mitgegebene Funktion false zurückgibt)."
   ]
  },
  {
   "cell_type": "markdown",
   "metadata": {},
   "source": [
    "### accumulate()"
   ]
  },
  {
   "cell_type": "code",
   "execution_count": 9,
   "metadata": {},
   "outputs": [
    {
     "name": "stdout",
     "output_type": "stream",
     "text": [
      "[1, 5, 10, 17]\n"
     ]
    }
   ],
   "source": [
    "import itertools\n",
    "import operator\n",
    "\n",
    "liste = [1,4,5,7]\n",
    "print(list(itertools.accumulate(liste)))"
   ]
  },
  {
   "cell_type": "markdown",
   "metadata": {},
   "source": [
    "accumulate() -> Summiert die Elemente der Liste auf"
   ]
  },
  {
   "cell_type": "markdown",
   "metadata": {},
   "source": [
    "### chain()"
   ]
  },
  {
   "cell_type": "code",
   "execution_count": 31,
   "metadata": {},
   "outputs": [
    {
     "name": "stdout",
     "output_type": "stream",
     "text": [
      "[1, 4, 5, 7, 1, 4, 20, 140, 8, 10, 5, 4]\n"
     ]
    }
   ],
   "source": [
    "liste2 = [1,4,20,140]\n",
    "liste3 = [8,10,5,4]\n",
    "\n",
    "print(list(itertools.chain(liste, liste2, liste3)))"
   ]
  },
  {
   "cell_type": "markdown",
   "metadata": {},
   "source": [
    "chain() -> Fügt die iterierbaren Parameter zu einer Liste zusammen"
   ]
  },
  {
   "cell_type": "markdown",
   "metadata": {},
   "source": [
    "### compress()"
   ]
  },
  {
   "cell_type": "code",
   "execution_count": 34,
   "metadata": {},
   "outputs": [
    {
     "name": "stdout",
     "output_type": "stream",
     "text": [
      "['O', 'S', 'I']\n"
     ]
    }
   ],
   "source": [
    "import itertools\n",
    "print(list(itertools.compress('PYTHONSCRIPT',[0,0,0,0,1,0,1,0,0,1,0,0])))"
   ]
  },
  {
   "cell_type": "markdown",
   "metadata": {},
   "source": [
    "compress() -> Gibt eine Liste mit Werten zurück, bei denen der korrespondierende Wert in einer zweiten Liste true entspricht"
   ]
  },
  {
   "cell_type": "markdown",
   "metadata": {},
   "source": [
    "## functools "
   ]
  },
  {
   "cell_type": "markdown",
   "metadata": {},
   "source": [
    "... ist ein Modul, das Funktionen höherer Ordnung enthält. Diese Funktionen arbeiten ihrerseits mit Funktionen. Die im Teil 2 beschriebene Funktion reduce() ist ebenfalls Bestandteil des Moduls."
   ]
  },
  {
   "cell_type": "code",
   "execution_count": 33,
   "metadata": {},
   "outputs": [
    {
     "name": "stdout",
     "output_type": "stream",
     "text": [
      "3149\n"
     ]
    }
   ],
   "source": [
    "from functools import partial\n",
    "\n",
    "def concatnumbers(a,b,c,x):\n",
    "    return 1000*a + 100*b + 10*c + x;\n",
    "\n",
    "g = partial(concatnumbers, 3, 1, 4)\n",
    "\n",
    "print(g(9))"
   ]
  },
  {
   "cell_type": "markdown",
   "metadata": {},
   "source": [
    "partial() -> Generiert eine neue Funktion, die auf einer bereits vorhandenen basiert und lediglich einige Parameter als Konstanten übergibt. Somit wird eine Funktion auf eine Funktion reduziert, die weniger Eingabeparameter erwartet als die ursprüngliche"
   ]
  },
  {
   "cell_type": "markdown",
   "metadata": {},
   "source": [
    "## Iterators"
   ]
  },
  {
   "cell_type": "markdown",
   "metadata": {},
   "source": [
    "Iteratoren sind alle Typen, die in einer \"for in\"-Schleife verwendet werden können. Sie müssen die Methoden __iter__ und __next__ implementieren. Erstere gibt bei der Initialisierung des Iterators ein Objekt zurück, das die Methode __next__ kennt. Eine \"for in\"-Schleife ruft implizit diese Funktion auf."
   ]
  },
  {
   "cell_type": "code",
   "execution_count": 39,
   "metadata": {},
   "outputs": [
    {
     "name": "stdout",
     "output_type": "stream",
     "text": [
      "I\n",
      "live\n",
      "for\n",
      "weekends\n"
     ]
    }
   ],
   "source": [
    "liste = [\"I\", \"live\", \"for\", \"weekends\"]\n",
    "for i in liste:\n",
    "    print(i)"
   ]
  },
  {
   "cell_type": "code",
   "execution_count": 41,
   "metadata": {},
   "outputs": [
    {
     "name": "stdout",
     "output_type": "stream",
     "text": [
      "I\n",
      "like\n",
      "trains\n"
     ]
    }
   ],
   "source": [
    "tupel = (\"I\", \"like\", \"trains\")\n",
    "for i in tupel:\n",
    "    print(i)"
   ]
  },
  {
   "cell_type": "code",
   "execution_count": 42,
   "metadata": {},
   "outputs": [
    {
     "name": "stdout",
     "output_type": "stream",
     "text": [
      "D\n",
      "i\n",
      "e\n",
      ",\n",
      " \n",
      "P\n",
      "o\n",
      "t\n",
      "a\n",
      "t\n",
      "o\n",
      "!\n"
     ]
    }
   ],
   "source": [
    "s = \"Die, Potato!\"\n",
    "for i in s:\n",
    "    print(i)"
   ]
  },
  {
   "cell_type": "code",
   "execution_count": 38,
   "metadata": {},
   "outputs": [
    {
     "name": "stdout",
     "output_type": "stream",
     "text": [
      "5\n",
      "6\n",
      "7\n",
      "8\n",
      "9\n",
      "10\n"
     ]
    }
   ],
   "source": [
    "class Counter:\n",
    "    def __init__(self, start, limit):\n",
    "        self.limit = limit\n",
    "        self.start = start\n",
    "        \n",
    "    def __iter__(self):\n",
    "        return self\n",
    "    \n",
    "    def __next__(self):\n",
    "        x = self.start\n",
    "        if x > self.limit:\n",
    "            raise StopIteration\n",
    "            \n",
    "        self.start = x + 1;\n",
    "        return x\n",
    "    \n",
    "for i in Counter(5, 10):\n",
    "    print(i)"
   ]
  },
  {
   "cell_type": "markdown",
   "metadata": {},
   "source": [
    "## Generators"
   ]
  },
  {
   "cell_type": "markdown",
   "metadata": {},
   "source": [
    "Generatoren erzeugen Iteratoren. Sie gleichen Funktionen, haben aber keine return-Anweisungen. Stattdessen gibt es eine oder mehrere yield-Anweisungen. Diese wirken wie ein Lesezeichen, das in dem erzeugten Iterator anzeigt, an welcher Stelle das Lesen fortgesetzt werden soll. Dadurch ist es möglich, einen Iterator zu schreiben, ohne die Methoden iter und next implementieren zu müssen."
   ]
  },
  {
   "cell_type": "code",
   "execution_count": 50,
   "metadata": {},
   "outputs": [
    {
     "name": "stdout",
     "output_type": "stream",
     "text": [
      "Kaaaarl, das tötet Leute!\n",
      "Oh, das wusste ich nicht.\n",
      "Kaaaaaaaarl!!\n"
     ]
    }
   ],
   "source": [
    "def citation_generator():\n",
    "    yield(\"Kaaaarl, das tötet Leute!\")\n",
    "    yield(\"Oh, das wusste ich nicht.\")\n",
    "    yield(\"Kaaaaaaaarl!!\")\n",
    "\n",
    "x = citation_generator()\n",
    "for i in x:\n",
    "    print(i)"
   ]
  },
  {
   "cell_type": "code",
   "execution_count": null,
   "metadata": {},
   "outputs": [],
   "source": []
  }
 ],
 "metadata": {
  "kernelspec": {
   "display_name": "Python 3",
   "language": "python",
   "name": "python3"
  },
  "language_info": {
   "codemirror_mode": {
    "name": "ipython",
    "version": 3
   },
   "file_extension": ".py",
   "mimetype": "text/x-python",
   "name": "python",
   "nbconvert_exporter": "python",
   "pygments_lexer": "ipython3",
   "version": "3.6.8"
  },
  "toc": {
   "base_numbering": 1,
   "nav_menu": {},
   "number_sections": true,
   "sideBar": true,
   "skip_h1_title": false,
   "title_cell": "Table of Contents",
   "title_sidebar": "Contents",
   "toc_cell": false,
   "toc_position": {},
   "toc_section_display": true,
   "toc_window_display": false
  }
 },
 "nbformat": 4,
 "nbformat_minor": 2
}
