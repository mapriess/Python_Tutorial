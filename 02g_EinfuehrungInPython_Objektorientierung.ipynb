{
 "cells": [
  {
   "cell_type": "markdown",
   "metadata": {},
   "source": [
    "# Objektorientierung in Python"
   ]
  },
  {
   "cell_type": "markdown",
   "metadata": {},
   "source": [
    "Python basiert in seiner Strukturierung auf Objektorientierung. Diese Einführung bezieht sich auf Python 3 und nicht auf Python 2.<br>\n",
    "Eine Klasse wird mit dem Keyword \"class\" erstellt. <br> \n",
    "Der Konstruktor wird durch die <i>magische Funktion</i> <i><b>__init__</b></i> dargestellt. Diese benötigt mindestens den Parameter <i><b>self</b></i>. Diesen Parameter kann man mit dem Keyword <i><b>this</b></i> aus Java vergleichen und ist für die Objektorientierung in Python essentiell. <br>Die Klasse Student erbt, wie alle anderen Klassen, standardmäßig von der Klasse <b>object</b>. Im Gegensatz zu Java wird das nicht durch das Keyword <i>extend</i> dargestellt sondern als eine Art Klassenparameter. Dies kann aber auch einfachheitshalber weggelassen werden."
   ]
  },
  {
   "cell_type": "code",
   "execution_count": 20,
   "metadata": {},
   "outputs": [],
   "source": [
    "#Student-Klasse\n",
    "class Student(object):\n",
    "    def __init__(self, name, matrkn):\n",
    "        self.name = name #public attribute\n",
    "        self.matrkn = matrkn\n",
    "#Deklaration und Initialisierung \n",
    "student = Student(\"Markus\", 1337)"
   ]
  },
  {
   "cell_type": "code",
   "execution_count": 21,
   "metadata": {
    "scrolled": true
   },
   "outputs": [
    {
     "name": "stdout",
     "output_type": "stream",
     "text": [
      "Markus\n"
     ]
    }
   ],
   "source": [
    "print(student.name)"
   ]
  },
  {
   "cell_type": "markdown",
   "metadata": {},
   "source": [
    "## Zugriffsrechte und statische Attribute"
   ]
  },
  {
   "cell_type": "markdown",
   "metadata": {},
   "source": [
    "Im Prinzip sind alle Attribute der oben erstellten Klasse <i><b>Student</b></i> öffentlich.<br>\n",
    "Geschützte (protected) Attribute und Funktionen werden mit dem Prefix \"_\" dargestellt und private Felder mit dem Prefix \"__\".<br> \n",
    "Dementsprechend können wie in Java getter und setter für einzelne Attribute erstellt werden.<br>\n",
    "Klassenattribute sind auch einfach zu erstellen, diese werden dann im Klassenkopf erstellt. Auf diese kann mit dem Ausdruck <b>Klasse.klassenattribut</b> zugegriffen werden."
   ]
  },
  {
   "cell_type": "code",
   "execution_count": 22,
   "metadata": {},
   "outputs": [],
   "source": [
    "#Student-Klasse\n",
    "class Student:\n",
    "    __counter = 0\n",
    "    def __init__(self, name, matrkn):\n",
    "        self.__name = name #private attribute\n",
    "        self._matrkn = matrkn #protected attribute\n",
    "        type(self).__counter += 1\n",
    "    def getName(self): #getter\n",
    "        return self.__name\n",
    "    def setName(self, name): #setter\n",
    "        self.__name = name\n",
    "    def getCounter(self):\n",
    "        return type(self).__counter\n",
    "student = Student(\"Markus\", 1337)\n",
    "student2 = Student(\"Test\", 1111)"
   ]
  },
  {
   "cell_type": "code",
   "execution_count": 23,
   "metadata": {},
   "outputs": [
    {
     "name": "stdout",
     "output_type": "stream",
     "text": [
      "False\n",
      "Markus\n",
      "2\n"
     ]
    }
   ],
   "source": [
    "print(hasattr(student, \"__name\"))\n",
    "print(student.getName())\n",
    "print(student.getCounter())"
   ]
  },
  {
   "cell_type": "markdown",
   "metadata": {},
   "source": [
    "## Vererbung"
   ]
  },
  {
   "cell_type": "markdown",
   "metadata": {},
   "source": [
    "Wie oben schon erwähnt, erbt die Klasse von der im Klassenparameter übergebene Klasse. Dadurch kriegt die Klasse zugriff auf alle öffentlichen und geschützen Felder. Nur die privaten Felder sind nicht erreichbar. Die folgende Beispielsklasse <b>AlterStudent</b> erbt von der Klasse <b>Student</b> und ergänzt die geerbten Felder mit dem Attribut <b>jahrgang</b>"
   ]
  },
  {
   "cell_type": "code",
   "execution_count": 18,
   "metadata": {},
   "outputs": [],
   "source": [
    "class AlterStudent(Student):\n",
    "    def __init__(self, name, matrkn, jahrgang):\n",
    "        self.setName(name) #public function from class Student\n",
    "        self._matrkn = matrkn #protected attribute from class matrkn\n",
    "        self.jahrgang = jahrgang #new public attribute\n",
    "alterStudent = AlterStudent(\"Markus\", 1337, 2017)"
   ]
  },
  {
   "cell_type": "code",
   "execution_count": 19,
   "metadata": {
    "scrolled": true
   },
   "outputs": [
    {
     "name": "stdout",
     "output_type": "stream",
     "text": [
      "Markus\n"
     ]
    }
   ],
   "source": [
    "print(alterStudent.getName())"
   ]
  },
  {
   "cell_type": "markdown",
   "metadata": {},
   "source": [
    "## Magische Funktionen"
   ]
  },
  {
   "cell_type": "markdown",
   "metadata": {},
   "source": [
    "Es gibt neben der Funktion <b><i>init</i></b> noch weitere magische Funktionen. <br>\n",
    "Wichtig ist es hier zu wissen, dass Python das Überladen von Operatoren ermöglicht. <br>Die Operatoren werden in 4 Kategorien unterteilt. Jeder Operator besitzt eine magische Funktion.\n",
    "<ul>\n",
    "    <li>Unäre Operatoren</li>\n",
    "    <li>Binäre Operatoren</li>\n",
    "    <li>Zuweisungsoperatoren</li>\n",
    "    <li>Vergleichsoperatoren</li>\n",
    "</ul>\n",
    "In der folgenden Beispielsklasse werden einige nützliche Operatoren verwendet. Eine ausführliche Liste der Operatoren finden Sie unter diesem <a href=\"https://www.geeksforgeeks.org/operator-overloading-in-python/\">Link</a>. "
   ]
  },
  {
   "cell_type": "code",
   "execution_count": 44,
   "metadata": {},
   "outputs": [],
   "source": [
    "#Vereinfachte Punktklasse\n",
    "class Punkt(object):\n",
    "    def __init__(self, x, y):\n",
    "        self.x = x\n",
    "        self.y = y\n",
    "    def __str__(self): # toString() (Unärer Operator)\n",
    "        return \"(X:\"+str(self.x)+\";Y:\"+str(self.y)+\")\"\n",
    "    def __add__(self, other): # + Operator (Binärer Operator)\n",
    "        x = self.x + other.x\n",
    "        y = self.y + other.y\n",
    "        return Punkt(x, y)\n",
    "    def __sub__(self, other): # - Operator (Binärer Operator)\n",
    "        x = self.x - other.x\n",
    "        y = self.y - other.y\n",
    "        return Punkt(x, y)\n",
    "    def __iadd__(self, other): # += Operator (Zuweisungsoperator)\n",
    "        self.x += other.x\n",
    "        self.y += other.y\n",
    "        return self\n",
    "    def __eq__(self, other): # == Operator (Vergleichsoperator)\n",
    "        return self.x == other.x and self.y == other.y\n",
    "punkt1 = Punkt(1,3)\n",
    "punkt2 = Punkt(3,3)  \n",
    "punkt1 += punkt2"
   ]
  },
  {
   "cell_type": "code",
   "execution_count": 45,
   "metadata": {},
   "outputs": [
    {
     "name": "stdout",
     "output_type": "stream",
     "text": [
      "(X:4;Y:6)\n",
      "(X:7;Y:9)\n",
      "(X:-1;Y:-3)\n",
      "False\n",
      "True\n"
     ]
    }
   ],
   "source": [
    "print(punkt1)\n",
    "print(punkt1 + punkt2)\n",
    "print(punkt2 - punkt1)\n",
    "print(punkt1 == punkt2)\n",
    "print(punkt1 == punkt1)"
   ]
  },
  {
   "cell_type": "code",
   "execution_count": null,
   "metadata": {},
   "outputs": [],
   "source": []
  }
 ],
 "metadata": {
  "kernelspec": {
   "display_name": "Python 3",
   "language": "python",
   "name": "python3"
  },
  "language_info": {
   "codemirror_mode": {
    "name": "ipython",
    "version": 3
   },
   "file_extension": ".py",
   "mimetype": "text/x-python",
   "name": "python",
   "nbconvert_exporter": "python",
   "pygments_lexer": "ipython3",
   "version": "3.6.8"
  },
  "toc": {
   "base_numbering": 1,
   "nav_menu": {},
   "number_sections": true,
   "sideBar": true,
   "skip_h1_title": false,
   "title_cell": "Table of Contents",
   "title_sidebar": "Contents",
   "toc_cell": false,
   "toc_position": {},
   "toc_section_display": true,
   "toc_window_display": true
  }
 },
 "nbformat": 4,
 "nbformat_minor": 2
}
